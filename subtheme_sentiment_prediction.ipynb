{
 "cells": [
  {
   "cell_type": "code",
   "execution_count": 1,
   "metadata": {},
   "outputs": [],
   "source": [
    "import tensorflow as tf\n",
    "from tensorflow.keras import layers\n",
    "from tensorflow import keras\n",
    "import pandas as pd\n",
    "import numpy as np\n",
    "from sklearn.feature_extraction.text import TfidfVectorizer\n",
    "import collections\n",
    "from sklearn.feature_extraction import text\n",
    "import requests\n",
    "import joblib\n",
    "import os"
   ]
  },
  {
   "cell_type": "code",
   "execution_count": 2,
   "metadata": {},
   "outputs": [],
   "source": [
    "def download_file_from_google_drive(id, destination):\n",
    "    URL = \"https://docs.google.com/uc?export=download\"\n",
    "\n",
    "    session = requests.Session()\n",
    "\n",
    "    response = session.get(URL, params = { 'id' : id }, stream = True)\n",
    "    token = get_confirm_token(response)\n",
    "\n",
    "    if token:\n",
    "        params = { 'id' : id, 'confirm' : token }\n",
    "        response = session.get(URL, params = params, stream = True)\n",
    "\n",
    "    save_response_content(response, destination)    \n",
    "\n",
    "def get_confirm_token(response):\n",
    "    for key, value in response.cookies.items():\n",
    "        if key.startswith('download_warning'):\n",
    "            return value\n",
    "\n",
    "    return None\n",
    "\n",
    "def save_response_content(response, destination):\n",
    "    CHUNK_SIZE = 32768\n",
    "\n",
    "    with open(destination, \"wb\") as f:\n",
    "        for chunk in response.iter_content(CHUNK_SIZE):\n",
    "            if chunk: # filter out keep-alive new chunks\n",
    "                f.write(chunk)"
   ]
  },
  {
   "cell_type": "code",
   "execution_count": 18,
   "metadata": {},
   "outputs": [],
   "source": [
    "def predict_sentiment(model_name=\"model_sa.h5\", labels=\"labels.pkl\", vectorizer=\"vectorizer.pkl\"):\n",
    "    \n",
    "    model_url = \"https://drive.google.com/file/d/1c-GOhXDZXF5NJDYoAwDpc6EJSm_zY4UM/view?usp=sharing\"\n",
    "    file_id = \"1c-GOhXDZXF5NJDYoAwDpc6EJSm_zY4UM\"\n",
    "    destination = \"model_sa.h5\"\n",
    "    labels = joblib.load(labels)\n",
    "    vectorizer = joblib.load(vectorizer)\n",
    "    df = pd.read_csv(\"Evaluation-dataset.csv\", header=None)\n",
    "    result = []\n",
    "    \n",
    "    if not os.path.exists(model_name):\n",
    "        download_file_from_google_drive(file_id, destination)\n",
    "        print(\"Downloading model from: \", model_url)\n",
    "    else:\n",
    "        print(\"Model Found.\")\n",
    "    \n",
    "    model = keras.models.load_model(model_name)\n",
    "    \n",
    "    for sent_i, sent in enumerate(df[0][0:10]):\n",
    "        x_new_vec = vectorizer.transform([sent])\n",
    "        x_new = x_new_vec.toarray()\n",
    "        y_proba = model.predict(x_new)\n",
    "        for idx, y_prob in enumerate(y_proba[0]):\n",
    "            if round(y_prob, 2) > 0.9:\n",
    "                result.append(labels[idx])\n",
    "        print(str(sent_i+1) + \": SENTENCE: \", sent, \"\\nPredicted Labels: \", result, \"\\nActual Labels: \", [df[1][sent_i], df[2][sent_i], df[3][sent_i]], \"\\n\\n\")\n",
    "        result = []    "
   ]
  },
  {
   "cell_type": "code",
   "execution_count": 19,
   "metadata": {},
   "outputs": [
    {
     "name": "stdout",
     "output_type": "stream",
     "text": [
      "Model Found.\n",
      "1: SENTENCE:  Tires where delivered to the garage of my choice,the garage notified me when they had been delivered. A day and time was arranged with the garage and I went and had them fitted,a Hassel free experience. \n",
      "Predicted Labels:  [] \n",
      "Actual Labels:  ['garage service positive', 'ease of booking positive', nan] \n",
      "\n",
      "\n",
      "2: SENTENCE:  Easy Tyre Selection Process, Competitive Pricing and Excellent Fitting Service \n",
      "Predicted Labels:  ['value for money positive'] \n",
      "Actual Labels:  ['garage service positive', 'value for money positive', nan] \n",
      "\n",
      "\n",
      "3: SENTENCE:  Very easy to use and good value for money. \n",
      "Predicted Labels:  ['value for money positive'] \n",
      "Actual Labels:  ['value for money positive', nan, nan] \n",
      "\n",
      "\n",
      "4: SENTENCE:  Really easy and convenient to arrange \n",
      "Predicted Labels:  ['ease of booking positive'] \n",
      "Actual Labels:  ['ease of booking positive', nan, nan] \n",
      "\n",
      "\n",
      "5: SENTENCE:  It was so easy to select tyre sizes and arrange local fitting. The prices were competitive \n",
      "Predicted Labels:  ['ease of booking positive', 'location positive', 'value for money positive'] \n",
      "Actual Labels:  ['location positive', 'value for money positive', 'ease of booking positive'] \n",
      "\n",
      "\n",
      "6: SENTENCE:  service was excellent. Only slight downside was not knowing exact time at garage although the garage were so quick so I wasn't delayed \n",
      "Predicted Labels:  [] \n",
      "Actual Labels:  ['length of fitting positive', 'ease of booking positive', 'ease of booking negative'] \n",
      "\n",
      "\n",
      "7: SENTENCE:  User friendly Website. Competitive Prices. Good communications. Efficient service by ATS Euromaster. \n",
      "Predicted Labels:  ['garage service positive', 'value for money positive'] \n",
      "Actual Labels:  ['garage service positive', 'value for money positive', nan] \n",
      "\n",
      "\n",
      "8: SENTENCE:  Excellent prices and service \n",
      "Predicted Labels:  ['value for money positive'] \n",
      "Actual Labels:  ['value for money positive', nan, nan] \n",
      "\n",
      "\n",
      "9: SENTENCE:  It was very straightforward and the garage was great. Hadn't even known about them before \n",
      "Predicted Labels:  [] \n",
      "Actual Labels:  ['garage service positive', nan, nan] \n",
      "\n",
      "\n",
      "10: SENTENCE:  Use of local garage. \n",
      "Predicted Labels:  ['location positive'] \n",
      "Actual Labels:  ['location positive', nan, nan] \n",
      "\n",
      "\n"
     ]
    }
   ],
   "source": [
    "predict_sentiment()"
   ]
  },
  {
   "cell_type": "code",
   "execution_count": null,
   "metadata": {},
   "outputs": [],
   "source": []
  }
 ],
 "metadata": {
  "kernelspec": {
   "display_name": "Python 3",
   "language": "python",
   "name": "python3"
  },
  "language_info": {
   "codemirror_mode": {
    "name": "ipython",
    "version": 3
   },
   "file_extension": ".py",
   "mimetype": "text/x-python",
   "name": "python",
   "nbconvert_exporter": "python",
   "pygments_lexer": "ipython3",
   "version": "3.6.10"
  }
 },
 "nbformat": 4,
 "nbformat_minor": 4
}
